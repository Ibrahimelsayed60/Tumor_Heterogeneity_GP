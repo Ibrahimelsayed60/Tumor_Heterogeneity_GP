{
 "cells": [
  {
   "cell_type": "code",
   "execution_count": 1,
   "metadata": {},
   "outputs": [
    {
     "name": "stdout",
     "output_type": "stream",
     "text": [
      "<KeysViewHDF5 ['#refs#', '#subsystem#', 'Clinical_data', 'HE_image', 'MSI_data_cube', 'goodlist', 'peak_list', 'pixel_to_sample_ID', 'x', 'y', 'z']>\n",
      "Width of dataset in pixels is: 1653, Height is: 443 and Number of peaks is: 82\n",
      "Shape of m/z values, average intensity, lower and upper boundary is: 82\n",
      "Number/size of pixels:  732279\n",
      "Shape of pixels:  (732279, 1)\n",
      "Length of non-background data:  54833\n",
      "Shape of MSI:  (443, 1653, 82)\n",
      "Shape of reshaped MSI data:  (732279, 82)\n",
      "Shape of MSI of only spectra data:  (54833, 82)\n",
      "PCA with Number of Components = 2 ...\n",
      "Shape of PCA for All Spectra Data and Number of Components = 2:  (54833, 2)\n",
      "PCA with Number of Components = 3 ...\n",
      "Shape of PCA for All Spectra Data and Number of Components = 3:  (54833, 3)\n",
      "PCA with Number of Components = 5 ...\n",
      "Shape of PCA for All Spectra Data and Number of Components = 5:  (54833, 5)\n",
      "t-SNE with Number of Components = 2 ...\n",
      "Shape of t-SNE for All Spectra Data and Number of Components = 2:  (54833, 2)\n",
      "t-SNE with Number of Components = 3 ...\n",
      "Shape of t-SNE for All Spectra Data and Number of Components = 3:  (54833, 3)\n"
     ]
    },
    {
     "data": {
      "text/plain": [
       "'\\n    Plots\\ngastricDataVar.plot_images(\"goodlist\", gastricDataVar.pixels_img)\\ngastricDataVar.plot_images(\"pixel_sample_id\", gastricDataVar.pixel_sample_id)\\ngastricDataVar.plot_images(\"HE_image\", gastricDataVar.HE_image)\\ngastricDataVar.plot_MSI()\\ngastricDataVar.plot_dimensionality_reduction(\"PCA2\", \"PCA of All Spectra Data and Number of Components is 2\", gastricDataVar.pca_2, gastricDataVar.MassSpec[:, 5])\\ngastricDataVar.plot_dimensionality_reduction(\"PCA3\", \"PCA of All Spectra Data and Number of Components is 3\", gastricDataVar.pca_3, gastricDataVar.MassSpec[:, 5])\\ngastricDataVar.plot_dimensionality_reduction(\"t-SNE2\", \"t-SNE of All Spectra Data and Number of Components is 2\", gastricDataVar.tsne2, gastricDataVar.MassSpec[:, 5])\\ngastricDataVar.plot_dimensionality_reduction(\"t-SNE3\", \"t-SNE of All Spectra Data and Number of Components is 3 in Scatter Space\", gastricDataVar.tsne3, gastricDataVar.MassSpec[:, 5])\\ngastricDataVar.plot_KMeans_clustering()\\n'"
      ]
     },
     "execution_count": 1,
     "metadata": {},
     "output_type": "execute_result"
    }
   ],
   "source": [
    "################################ Section1 - Importing Class ################################\n",
    "\"\"\"\n",
    "    gastricData Class\n",
    "\"\"\"\n",
    "from gasticDataClass import gastricData\n",
    "\n",
    "gastricDataVar = gastricData(\"../../Data/gastricData/gastricData.mat\")\n",
    "gastricDataVar.set_data()\n",
    "gastricDataVar.reshape_data(gastricDataVar.y[0][0], gastricDataVar.x[0][0])\n",
    "MSI_reshaped = gastricDataVar.MSI_reshaped\n",
    "MassSpec = gastricDataVar.MassSpec\n",
    "\n",
    "pca_2 = gastricDataVar.dimensionality_reduction(\"PCA\", 2)\n",
    "pca_3 = gastricDataVar.dimensionality_reduction(\"PCA\", 3)\n",
    "pca_5 = gastricDataVar.dimensionality_reduction(\"PCA\", 5)\n",
    "\n",
    "tsne2 = gastricDataVar.dimensionality_reduction(\"t-SNE\", 2)\n",
    "tsne3 = gastricDataVar.dimensionality_reduction(\"t-SNE\", 3)\n",
    "\n",
    "KMeans_labels = gastricDataVar.KMeans_clustering(3)\n",
    "\n",
    "# gastricDataVar.survival_analysis()\n",
    "\n",
    "\"\"\"\n",
    "    All Information\n",
    "\"\"\"\n",
    "gastricDataVar.print_info(\"pixels_info\")\n",
    "gastricDataVar.print_info(\"peak_list\")\n",
    "gastricDataVar.print_info(\"spectra\")\n",
    "gastricDataVar.print_info(\"MSI\")\n",
    "gastricDataVar.print_info(\"PCA\")\n",
    "gastricDataVar.print_info(\"t-SNE\")\n",
    "\n",
    "\"\"\"\n",
    "    Plots\n",
    "gastricDataVar.plot_images(\"goodlist\", gastricDataVar.pixels_img)\n",
    "gastricDataVar.plot_images(\"pixel_sample_id\", gastricDataVar.pixel_sample_id)\n",
    "gastricDataVar.plot_images(\"HE_image\", gastricDataVar.HE_image)\n",
    "gastricDataVar.plot_MSI()\n",
    "gastricDataVar.plot_dimensionality_reduction(\"PCA2\", \"PCA of All Spectra Data and Number of Components is 2\", gastricDataVar.pca_2, gastricDataVar.MassSpec[:, 5])\n",
    "gastricDataVar.plot_dimensionality_reduction(\"PCA3\", \"PCA of All Spectra Data and Number of Components is 3\", gastricDataVar.pca_3, gastricDataVar.MassSpec[:, 5])\n",
    "gastricDataVar.plot_dimensionality_reduction(\"t-SNE2\", \"t-SNE of All Spectra Data and Number of Components is 2\", gastricDataVar.tsne2, gastricDataVar.MassSpec[:, 5])\n",
    "gastricDataVar.plot_dimensionality_reduction(\"t-SNE3\", \"t-SNE of All Spectra Data and Number of Components is 3 in Scatter Space\", gastricDataVar.tsne3, gastricDataVar.MassSpec[:, 5])\n",
    "gastricDataVar.plot_KMeans_clustering()\n",
    "\"\"\""
   ]
  },
  {
   "cell_type": "code",
   "execution_count": null,
   "metadata": {},
   "outputs": [],
   "source": []
  },
  {
   "cell_type": "code",
   "execution_count": null,
   "metadata": {},
   "outputs": [],
   "source": []
  }
 ],
 "metadata": {
  "kernelspec": {
   "display_name": "Python 3",
   "language": "python",
   "name": "python3"
  },
  "language_info": {
   "codemirror_mode": {
    "name": "ipython",
    "version": 3
   },
   "file_extension": ".py",
   "mimetype": "text/x-python",
   "name": "python",
   "nbconvert_exporter": "python",
   "pygments_lexer": "ipython3",
   "version": "3.8.5"
  }
 },
 "nbformat": 4,
 "nbformat_minor": 4
}
